{
 "cells": [
  {
   "cell_type": "markdown",
   "metadata": {
    "id": "8ePkPQL-Z2Uh",
    "pycharm": {
     "name": "#%% md\n"
    }
   },
   "source": [
    "# Module 12: Maps\n",
    "\n",
    "Let's draw some maps. 🗺🧐"
   ]
  },
  {
   "cell_type": "markdown",
   "metadata": {
    "id": "1ygBHL6pZ2Ul",
    "pycharm": {
     "name": "#%% md\n"
    }
   },
   "source": [
    "## A dotmap with Altair\n",
    "\n",
    "Let's start with altair. When your dataset is large, it is nice to enable a json data transformer. What it does is, instead of generating and holding the whole dataset in the memory, transform the dataset and save into a temporary file. This makes the whole plotting process much more efficient. For more information, check out: https://altair-viz.github.io/user_guide/data_transformers.html"
   ]
  },
  {
   "cell_type": "code",
   "execution_count": 109,
   "metadata": {
    "id": "fXhKdr0mZ2Um",
    "outputId": "3ee465a8-60bd-4090-d0e6-44899f42c907",
    "pycharm": {
     "name": "#%%\n"
    }
   },
   "outputs": [
    {
     "data": {
      "text/plain": "RendererRegistry.enable('default')"
     },
     "execution_count": 109,
     "metadata": {},
     "output_type": "execute_result"
    }
   ],
   "source": [
    "import altair as alt\n",
    "\n",
    "# saving data into a file rather than embedding into the chart\n",
    "alt.data_transformers.enable('json')\n",
    "\n",
    "#alt.renderers.enable('notebook')\n",
    "# alt.renderers.enable('jupyterlab')\n",
    "alt.renderers.enable('default')"
   ]
  },
  {
   "cell_type": "markdown",
   "metadata": {
    "id": "kSsC31xrZ2Up",
    "pycharm": {
     "name": "#%% md\n"
    }
   },
   "source": [
    "Maybe we need a dataset with geographical coordinates. This `zipcodes` dataset contains the location and zipcode of each zip code area. "
   ]
  },
  {
   "cell_type": "code",
   "execution_count": 110,
   "metadata": {
    "id": "blTF4tCpZ2Up",
    "outputId": "36c246b8-6f11-4af2-c0ea-d197606a4170",
    "pycharm": {
     "name": "#%%\n"
    }
   },
   "outputs": [
    {
     "data": {
      "text/plain": "  zip_code   latitude  longitude        city state     county\n0    00501  40.922326 -72.637078  Holtsville    NY    Suffolk\n1    00544  40.922326 -72.637078  Holtsville    NY    Suffolk\n2    00601  18.165273 -66.722583    Adjuntas    PR   Adjuntas\n3    00602  18.393103 -67.180953      Aguada    PR     Aguada\n4    00603  18.455913 -67.145780   Aguadilla    PR  Aguadilla",
      "text/html": "<div>\n<style scoped>\n    .dataframe tbody tr th:only-of-type {\n        vertical-align: middle;\n    }\n\n    .dataframe tbody tr th {\n        vertical-align: top;\n    }\n\n    .dataframe thead th {\n        text-align: right;\n    }\n</style>\n<table border=\"1\" class=\"dataframe\">\n  <thead>\n    <tr style=\"text-align: right;\">\n      <th></th>\n      <th>zip_code</th>\n      <th>latitude</th>\n      <th>longitude</th>\n      <th>city</th>\n      <th>state</th>\n      <th>county</th>\n    </tr>\n  </thead>\n  <tbody>\n    <tr>\n      <th>0</th>\n      <td>00501</td>\n      <td>40.922326</td>\n      <td>-72.637078</td>\n      <td>Holtsville</td>\n      <td>NY</td>\n      <td>Suffolk</td>\n    </tr>\n    <tr>\n      <th>1</th>\n      <td>00544</td>\n      <td>40.922326</td>\n      <td>-72.637078</td>\n      <td>Holtsville</td>\n      <td>NY</td>\n      <td>Suffolk</td>\n    </tr>\n    <tr>\n      <th>2</th>\n      <td>00601</td>\n      <td>18.165273</td>\n      <td>-66.722583</td>\n      <td>Adjuntas</td>\n      <td>PR</td>\n      <td>Adjuntas</td>\n    </tr>\n    <tr>\n      <th>3</th>\n      <td>00602</td>\n      <td>18.393103</td>\n      <td>-67.180953</td>\n      <td>Aguada</td>\n      <td>PR</td>\n      <td>Aguada</td>\n    </tr>\n    <tr>\n      <th>4</th>\n      <td>00603</td>\n      <td>18.455913</td>\n      <td>-67.145780</td>\n      <td>Aguadilla</td>\n      <td>PR</td>\n      <td>Aguadilla</td>\n    </tr>\n  </tbody>\n</table>\n</div>"
     },
     "execution_count": 110,
     "metadata": {},
     "output_type": "execute_result"
    }
   ],
   "source": [
    "from vega_datasets import data\n",
    "\n",
    "zipcodes_url = data.zipcodes.url\n",
    "zipcodes = data.zipcodes()\n",
    "zipcodes.head()"
   ]
  },
  {
   "cell_type": "code",
   "execution_count": 111,
   "metadata": {
    "id": "3pX63APqZ2Uq",
    "outputId": "e3783345-461c-4494-fc64-9cbe697cfe14",
    "pycharm": {
     "name": "#%%\n"
    }
   },
   "outputs": [
    {
     "data": {
      "text/plain": "  zip_code   latitude  longitude        city state     county\n0    00501  40.922326 -72.637078  Holtsville    NY    Suffolk\n1    00544  40.922326 -72.637078  Holtsville    NY    Suffolk\n2    00601  18.165273 -66.722583    Adjuntas    PR   Adjuntas\n3    00602  18.393103 -67.180953      Aguada    PR     Aguada\n4    00603  18.455913 -67.145780   Aguadilla    PR  Aguadilla",
      "text/html": "<div>\n<style scoped>\n    .dataframe tbody tr th:only-of-type {\n        vertical-align: middle;\n    }\n\n    .dataframe tbody tr th {\n        vertical-align: top;\n    }\n\n    .dataframe thead th {\n        text-align: right;\n    }\n</style>\n<table border=\"1\" class=\"dataframe\">\n  <thead>\n    <tr style=\"text-align: right;\">\n      <th></th>\n      <th>zip_code</th>\n      <th>latitude</th>\n      <th>longitude</th>\n      <th>city</th>\n      <th>state</th>\n      <th>county</th>\n    </tr>\n  </thead>\n  <tbody>\n    <tr>\n      <th>0</th>\n      <td>00501</td>\n      <td>40.922326</td>\n      <td>-72.637078</td>\n      <td>Holtsville</td>\n      <td>NY</td>\n      <td>Suffolk</td>\n    </tr>\n    <tr>\n      <th>1</th>\n      <td>00544</td>\n      <td>40.922326</td>\n      <td>-72.637078</td>\n      <td>Holtsville</td>\n      <td>NY</td>\n      <td>Suffolk</td>\n    </tr>\n    <tr>\n      <th>2</th>\n      <td>00601</td>\n      <td>18.165273</td>\n      <td>-66.722583</td>\n      <td>Adjuntas</td>\n      <td>PR</td>\n      <td>Adjuntas</td>\n    </tr>\n    <tr>\n      <th>3</th>\n      <td>00602</td>\n      <td>18.393103</td>\n      <td>-67.180953</td>\n      <td>Aguada</td>\n      <td>PR</td>\n      <td>Aguada</td>\n    </tr>\n    <tr>\n      <th>4</th>\n      <td>00603</td>\n      <td>18.455913</td>\n      <td>-67.145780</td>\n      <td>Aguadilla</td>\n      <td>PR</td>\n      <td>Aguadilla</td>\n    </tr>\n  </tbody>\n</table>\n</div>"
     },
     "execution_count": 111,
     "metadata": {},
     "output_type": "execute_result"
    }
   ],
   "source": [
    "zipcodes = data.zipcodes(dtype={'zip_code': 'category'})\n",
    "zipcodes.head()"
   ]
  },
  {
   "cell_type": "code",
   "execution_count": 112,
   "metadata": {
    "id": "xCRaX16pZ2Ur",
    "outputId": "864c996c-62f3-4a7e-f91a-d368fa9c7206",
    "pycharm": {
     "name": "#%%\n"
    }
   },
   "outputs": [
    {
     "data": {
      "text/plain": "CategoricalDtype(categories=['00501', '00544', '00601', '00602', '00603', '00604',\n                  '00605', '00606', '00610', '00611',\n                  ...\n                  '99919', '99921', '99922', '99923', '99925', '99926',\n                  '99927', '99928', '99929', '99950'],\n, ordered=False)"
     },
     "execution_count": 112,
     "metadata": {},
     "output_type": "execute_result"
    }
   ],
   "source": [
    "zipcodes.zip_code.dtype"
   ]
  },
  {
   "cell_type": "markdown",
   "metadata": {
    "id": "fIKUz0AmZ2Ur",
    "pycharm": {
     "name": "#%% md\n"
    }
   },
   "source": [
    "Btw, you'll have fewer issues if you pass URL instead of a dataframe to `alt.Chart`. "
   ]
  },
  {
   "cell_type": "markdown",
   "metadata": {
    "id": "Bc4bYd3uZ2Ur",
    "pycharm": {
     "name": "#%% md\n"
    }
   },
   "source": [
    "### Let's draw it\n",
    "\n",
    "Now we have the dataset loaded and start drawing some plots. Let's say you don't know anything about map projections. What would you try with geographical data? Probably the simplest way is considering (longitude, latitude) as a Cartesian coordinate and directly plot them. "
   ]
  },
  {
   "cell_type": "code",
   "execution_count": 113,
   "metadata": {
    "id": "i0L76qR2Z2Us",
    "outputId": "0f8bd644-6f02-4f04-daeb-f02e17446ce6",
    "pycharm": {
     "name": "#%%\n"
    }
   },
   "outputs": [
    {
     "data": {
      "text/html": "\n<div id=\"altair-viz-433a989324114b1eb80796221f1e4203\"></div>\n<script type=\"text/javascript\">\n  var VEGA_DEBUG = (typeof VEGA_DEBUG == \"undefined\") ? {} : VEGA_DEBUG;\n  (function(spec, embedOpt){\n    let outputDiv = document.currentScript.previousElementSibling;\n    if (outputDiv.id !== \"altair-viz-433a989324114b1eb80796221f1e4203\") {\n      outputDiv = document.getElementById(\"altair-viz-433a989324114b1eb80796221f1e4203\");\n    }\n    const paths = {\n      \"vega\": \"https://cdn.jsdelivr.net/npm//vega@5?noext\",\n      \"vega-lib\": \"https://cdn.jsdelivr.net/npm//vega-lib?noext\",\n      \"vega-lite\": \"https://cdn.jsdelivr.net/npm//vega-lite@4.17.0?noext\",\n      \"vega-embed\": \"https://cdn.jsdelivr.net/npm//vega-embed@6?noext\",\n    };\n\n    function maybeLoadScript(lib, version) {\n      var key = `${lib.replace(\"-\", \"\")}_version`;\n      return (VEGA_DEBUG[key] == version) ?\n        Promise.resolve(paths[lib]) :\n        new Promise(function(resolve, reject) {\n          var s = document.createElement('script');\n          document.getElementsByTagName(\"head\")[0].appendChild(s);\n          s.async = true;\n          s.onload = () => {\n            VEGA_DEBUG[key] = version;\n            return resolve(paths[lib]);\n          };\n          s.onerror = () => reject(`Error loading script: ${paths[lib]}`);\n          s.src = paths[lib];\n        });\n    }\n\n    function showError(err) {\n      outputDiv.innerHTML = `<div class=\"error\" style=\"color:red;\">${err}</div>`;\n      throw err;\n    }\n\n    function displayChart(vegaEmbed) {\n      vegaEmbed(outputDiv, spec, embedOpt)\n        .catch(err => showError(`Javascript Error: ${err.message}<br>This usually means there's a typo in your chart specification. See the javascript console for the full traceback.`));\n    }\n\n    if(typeof define === \"function\" && define.amd) {\n      requirejs.config({paths});\n      require([\"vega-embed\"], displayChart, err => showError(`Error loading script: ${err.message}`));\n    } else {\n      maybeLoadScript(\"vega\", \"5\")\n        .then(() => maybeLoadScript(\"vega-lite\", \"4.17.0\"))\n        .then(() => maybeLoadScript(\"vega-embed\", \"6\"))\n        .catch(showError)\n        .then(() => displayChart(vegaEmbed));\n    }\n  })({\"config\": {\"view\": {\"continuousWidth\": 400, \"continuousHeight\": 300}}, \"data\": {\"url\": \"https://cdn.jsdelivr.net/npm/vega-datasets@v1.29.0/data/zipcodes.csv\"}, \"mark\": \"circle\", \"encoding\": {\"x\": {\"field\": \"longitude\", \"type\": \"quantitative\"}, \"y\": {\"field\": \"latitude\", \"type\": \"quantitative\"}}, \"$schema\": \"https://vega.github.io/schema/vega-lite/v4.17.0.json\"}, {\"mode\": \"vega-lite\"});\n</script>",
      "text/plain": "alt.Chart(...)"
     },
     "execution_count": 113,
     "metadata": {},
     "output_type": "execute_result"
    }
   ],
   "source": [
    "alt.Chart(zipcodes_url).mark_circle().encode(\n",
    "    x='longitude:Q',\n",
    "    y='latitude:Q',\n",
    ")"
   ]
  },
  {
   "cell_type": "markdown",
   "metadata": {
    "id": "FM_rfEV4Z2Us",
    "pycharm": {
     "name": "#%% md\n"
    }
   },
   "source": [
    "Actually this itself is a map projection called [Equirectangular projection](https://en.wikipedia.org/wiki/Equirectangular_projection). This projection (or almost a *non-projection*) is super straight-forward and doesn't require any processing of the data. So, often it is used to just quickly explore geographical data. As you dig deeper, you still want to think about which map projection fits your need best. Don't just use equirectangular projection without any thoughts! \n",
    "\n",
    "Anyway, let's make it look slighly better by reducing the size of the circles and adjusting the aspect ratio. \n",
    "\n",
    "**Q: Can you adjust the circle size,  width and height of the chart?**"
   ]
  },
  {
   "cell_type": "code",
   "execution_count": 114,
   "metadata": {
    "id": "ZO__tSTRZ2Ut",
    "outputId": "41007396-068f-4cd4-d4cd-d56099bc1b1c",
    "pycharm": {
     "name": "#%%\n"
    }
   },
   "outputs": [
    {
     "data": {
      "text/html": "\n<div id=\"altair-viz-4ccd03ce0fc64b95a930d30af830e3a1\"></div>\n<script type=\"text/javascript\">\n  var VEGA_DEBUG = (typeof VEGA_DEBUG == \"undefined\") ? {} : VEGA_DEBUG;\n  (function(spec, embedOpt){\n    let outputDiv = document.currentScript.previousElementSibling;\n    if (outputDiv.id !== \"altair-viz-4ccd03ce0fc64b95a930d30af830e3a1\") {\n      outputDiv = document.getElementById(\"altair-viz-4ccd03ce0fc64b95a930d30af830e3a1\");\n    }\n    const paths = {\n      \"vega\": \"https://cdn.jsdelivr.net/npm//vega@5?noext\",\n      \"vega-lib\": \"https://cdn.jsdelivr.net/npm//vega-lib?noext\",\n      \"vega-lite\": \"https://cdn.jsdelivr.net/npm//vega-lite@4.17.0?noext\",\n      \"vega-embed\": \"https://cdn.jsdelivr.net/npm//vega-embed@6?noext\",\n    };\n\n    function maybeLoadScript(lib, version) {\n      var key = `${lib.replace(\"-\", \"\")}_version`;\n      return (VEGA_DEBUG[key] == version) ?\n        Promise.resolve(paths[lib]) :\n        new Promise(function(resolve, reject) {\n          var s = document.createElement('script');\n          document.getElementsByTagName(\"head\")[0].appendChild(s);\n          s.async = true;\n          s.onload = () => {\n            VEGA_DEBUG[key] = version;\n            return resolve(paths[lib]);\n          };\n          s.onerror = () => reject(`Error loading script: ${paths[lib]}`);\n          s.src = paths[lib];\n        });\n    }\n\n    function showError(err) {\n      outputDiv.innerHTML = `<div class=\"error\" style=\"color:red;\">${err}</div>`;\n      throw err;\n    }\n\n    function displayChart(vegaEmbed) {\n      vegaEmbed(outputDiv, spec, embedOpt)\n        .catch(err => showError(`Javascript Error: ${err.message}<br>This usually means there's a typo in your chart specification. See the javascript console for the full traceback.`));\n    }\n\n    if(typeof define === \"function\" && define.amd) {\n      requirejs.config({paths});\n      require([\"vega-embed\"], displayChart, err => showError(`Error loading script: ${err.message}`));\n    } else {\n      maybeLoadScript(\"vega\", \"5\")\n        .then(() => maybeLoadScript(\"vega-lite\", \"4.17.0\"))\n        .then(() => maybeLoadScript(\"vega-embed\", \"6\"))\n        .catch(showError)\n        .then(() => displayChart(vegaEmbed));\n    }\n  })({\"config\": {\"view\": {\"continuousWidth\": 400, \"continuousHeight\": 300}}, \"data\": {\"url\": \"https://cdn.jsdelivr.net/npm/vega-datasets@v1.29.0/data/zipcodes.csv\"}, \"mark\": {\"type\": \"circle\", \"size\": 2}, \"encoding\": {\"x\": {\"field\": \"longitude\", \"type\": \"quantitative\"}, \"y\": {\"field\": \"latitude\", \"type\": \"quantitative\"}}, \"height\": 80, \"width\": 400, \"$schema\": \"https://vega.github.io/schema/vega-lite/v4.17.0.json\"}, {\"mode\": \"vega-lite\"});\n</script>",
      "text/plain": "alt.Chart(...)"
     },
     "execution_count": 114,
     "metadata": {},
     "output_type": "execute_result"
    }
   ],
   "source": [
    "alt.Chart(zipcodes_url).mark_circle(\n",
    "    size=2\n",
    ").encode(\n",
    "    x='longitude:Q',\n",
    "    y='latitude:Q',\n",
    ").properties(\n",
    "    width=400,\n",
    "    height=80\n",
    ")"
   ]
  },
  {
   "cell_type": "markdown",
   "metadata": {
    "id": "ikMQpRt-Z2Ut",
    "pycharm": {
     "name": "#%% md\n"
    }
   },
   "source": [
    "But, a much better way to do this is explicitly specifying that they are lat, lng coordinates by using `longitude=` and `latitude=`, rather than `x=` and `y=`. If you do that, altair automatically adjust the aspect ratio. \n",
    "\n",
    "**Q: Can you try it?**"
   ]
  },
  {
   "cell_type": "code",
   "execution_count": 115,
   "metadata": {
    "id": "tsKJL1cnZ2Ut",
    "outputId": "eb392a0b-480e-455a-cba8-12e87d348472",
    "pycharm": {
     "name": "#%%\n"
    }
   },
   "outputs": [
    {
     "data": {
      "text/html": "\n<div id=\"altair-viz-082cba3af0d443d7ab0eb41e6b454479\"></div>\n<script type=\"text/javascript\">\n  var VEGA_DEBUG = (typeof VEGA_DEBUG == \"undefined\") ? {} : VEGA_DEBUG;\n  (function(spec, embedOpt){\n    let outputDiv = document.currentScript.previousElementSibling;\n    if (outputDiv.id !== \"altair-viz-082cba3af0d443d7ab0eb41e6b454479\") {\n      outputDiv = document.getElementById(\"altair-viz-082cba3af0d443d7ab0eb41e6b454479\");\n    }\n    const paths = {\n      \"vega\": \"https://cdn.jsdelivr.net/npm//vega@5?noext\",\n      \"vega-lib\": \"https://cdn.jsdelivr.net/npm//vega-lib?noext\",\n      \"vega-lite\": \"https://cdn.jsdelivr.net/npm//vega-lite@4.17.0?noext\",\n      \"vega-embed\": \"https://cdn.jsdelivr.net/npm//vega-embed@6?noext\",\n    };\n\n    function maybeLoadScript(lib, version) {\n      var key = `${lib.replace(\"-\", \"\")}_version`;\n      return (VEGA_DEBUG[key] == version) ?\n        Promise.resolve(paths[lib]) :\n        new Promise(function(resolve, reject) {\n          var s = document.createElement('script');\n          document.getElementsByTagName(\"head\")[0].appendChild(s);\n          s.async = true;\n          s.onload = () => {\n            VEGA_DEBUG[key] = version;\n            return resolve(paths[lib]);\n          };\n          s.onerror = () => reject(`Error loading script: ${paths[lib]}`);\n          s.src = paths[lib];\n        });\n    }\n\n    function showError(err) {\n      outputDiv.innerHTML = `<div class=\"error\" style=\"color:red;\">${err}</div>`;\n      throw err;\n    }\n\n    function displayChart(vegaEmbed) {\n      vegaEmbed(outputDiv, spec, embedOpt)\n        .catch(err => showError(`Javascript Error: ${err.message}<br>This usually means there's a typo in your chart specification. See the javascript console for the full traceback.`));\n    }\n\n    if(typeof define === \"function\" && define.amd) {\n      requirejs.config({paths});\n      require([\"vega-embed\"], displayChart, err => showError(`Error loading script: ${err.message}`));\n    } else {\n      maybeLoadScript(\"vega\", \"5\")\n        .then(() => maybeLoadScript(\"vega-lite\", \"4.17.0\"))\n        .then(() => maybeLoadScript(\"vega-embed\", \"6\"))\n        .catch(showError)\n        .then(() => displayChart(vegaEmbed));\n    }\n  })({\"config\": {\"view\": {\"continuousWidth\": 400, \"continuousHeight\": 300}}, \"data\": {\"url\": \"https://cdn.jsdelivr.net/npm/vega-datasets@v1.29.0/data/zipcodes.csv\"}, \"mark\": \"circle\", \"encoding\": {\"x\": {\"field\": \"longitude\", \"type\": \"quantitative\"}, \"y\": {\"field\": \"latitude\", \"type\": \"quantitative\"}}, \"height\": 80, \"width\": 400, \"$schema\": \"https://vega.github.io/schema/vega-lite/v4.17.0.json\"}, {\"mode\": \"vega-lite\"});\n</script>",
      "text/plain": "alt.Chart(...)"
     },
     "execution_count": 115,
     "metadata": {},
     "output_type": "execute_result"
    }
   ],
   "source": [
    "alt.Chart(zipcodes_url).mark_circle().encode(\n",
    "    x='longitude:Q',\n",
    "    y='latitude:Q',\n",
    ").properties(\n",
    "    width=400,\n",
    "    height=80\n",
    ")"
   ]
  },
  {
   "cell_type": "markdown",
   "metadata": {
    "id": "mTKwzCViZ2Uu",
    "pycharm": {
     "name": "#%% md\n"
    }
   },
   "source": [
    "Because the [American empire is far-reaching and complicated](https://www.youtube.com/watch?v=ASSOQDQvVLU), the information density of this map is very low (although interesting). A common projection for visualizing US data is [AlbersUSA](https://bl.ocks.org/mbostock/5545680), which uses [Albers (equal-area) projection](https://en.wikipedia.org/wiki/Albers_projection). This is a standard projection used in United States Geological Survey and the United States Census Bureau. Albers USA contains a composition of US main land, Alaska, and Hawaii. \n",
    "\n",
    "To use it, we  call `project` method and specify which variables are `longitude` and `latitude`. \n",
    "\n",
    "**Q: use the `project` method to draw the map in the AlbersUsa projection.**"
   ]
  },
  {
   "cell_type": "code",
   "execution_count": 116,
   "metadata": {
    "id": "Y98g_rWOZ2Uu",
    "outputId": "9e4f5481-bcb7-4ee3-c9a9-095f54a91574",
    "pycharm": {
     "name": "#%%\n"
    }
   },
   "outputs": [
    {
     "data": {
      "text/html": "\n<div id=\"altair-viz-3f004caef0474b39add40c87ed428fb0\"></div>\n<script type=\"text/javascript\">\n  var VEGA_DEBUG = (typeof VEGA_DEBUG == \"undefined\") ? {} : VEGA_DEBUG;\n  (function(spec, embedOpt){\n    let outputDiv = document.currentScript.previousElementSibling;\n    if (outputDiv.id !== \"altair-viz-3f004caef0474b39add40c87ed428fb0\") {\n      outputDiv = document.getElementById(\"altair-viz-3f004caef0474b39add40c87ed428fb0\");\n    }\n    const paths = {\n      \"vega\": \"https://cdn.jsdelivr.net/npm//vega@5?noext\",\n      \"vega-lib\": \"https://cdn.jsdelivr.net/npm//vega-lib?noext\",\n      \"vega-lite\": \"https://cdn.jsdelivr.net/npm//vega-lite@4.17.0?noext\",\n      \"vega-embed\": \"https://cdn.jsdelivr.net/npm//vega-embed@6?noext\",\n    };\n\n    function maybeLoadScript(lib, version) {\n      var key = `${lib.replace(\"-\", \"\")}_version`;\n      return (VEGA_DEBUG[key] == version) ?\n        Promise.resolve(paths[lib]) :\n        new Promise(function(resolve, reject) {\n          var s = document.createElement('script');\n          document.getElementsByTagName(\"head\")[0].appendChild(s);\n          s.async = true;\n          s.onload = () => {\n            VEGA_DEBUG[key] = version;\n            return resolve(paths[lib]);\n          };\n          s.onerror = () => reject(`Error loading script: ${paths[lib]}`);\n          s.src = paths[lib];\n        });\n    }\n\n    function showError(err) {\n      outputDiv.innerHTML = `<div class=\"error\" style=\"color:red;\">${err}</div>`;\n      throw err;\n    }\n\n    function displayChart(vegaEmbed) {\n      vegaEmbed(outputDiv, spec, embedOpt)\n        .catch(err => showError(`Javascript Error: ${err.message}<br>This usually means there's a typo in your chart specification. See the javascript console for the full traceback.`));\n    }\n\n    if(typeof define === \"function\" && define.amd) {\n      requirejs.config({paths});\n      require([\"vega-embed\"], displayChart, err => showError(`Error loading script: ${err.message}`));\n    } else {\n      maybeLoadScript(\"vega\", \"5\")\n        .then(() => maybeLoadScript(\"vega-lite\", \"4.17.0\"))\n        .then(() => maybeLoadScript(\"vega-embed\", \"6\"))\n        .catch(showError)\n        .then(() => displayChart(vegaEmbed));\n    }\n  })({\"config\": {\"view\": {\"continuousWidth\": 400, \"continuousHeight\": 300}}, \"data\": {\"url\": \"https://cdn.jsdelivr.net/npm/vega-datasets@v1.29.0/data/zipcodes.csv\"}, \"mark\": \"circle\", \"encoding\": {\"x\": {\"field\": \"longitude\", \"type\": \"quantitative\"}, \"y\": {\"field\": \"latitude\", \"type\": \"quantitative\"}}, \"height\": 80, \"projection\": {\"type\": \"albersUsa\"}, \"width\": 400, \"$schema\": \"https://vega.github.io/schema/vega-lite/v4.17.0.json\"}, {\"mode\": \"vega-lite\"});\n</script>",
      "text/plain": "alt.Chart(...)"
     },
     "execution_count": 116,
     "metadata": {},
     "output_type": "execute_result"
    }
   ],
   "source": [
    "alt.Chart(zipcodes_url).mark_circle().project(\n",
    "    type='albersUsa'\n",
    ").encode(\n",
    "    x='longitude:Q',\n",
    "    y='latitude:Q',\n",
    ").properties(\n",
    "    width=400,\n",
    "    height=80\n",
    ")"
   ]
  },
  {
   "cell_type": "markdown",
   "metadata": {
    "id": "preSoEFhZ2Uv",
    "pycharm": {
     "name": "#%% md\n"
    }
   },
   "source": [
    "Now we're talking. 😎\n",
    "\n",
    "Let's visualize the large-scale zipcode patterns. We can use the fact that the zipcodes are hierarchically organized. That is, the first digit captures the largest area divisions and the other digits are about smaller geographical divisions. \n",
    "\n",
    "Altair provides some data transformation functionalities. One of them is extracting a substring from a variable. "
   ]
  },
  {
   "cell_type": "code",
   "execution_count": 117,
   "metadata": {
    "id": "BPu-rp4eZ2Uv",
    "outputId": "0a51fd27-0955-412f-fbd4-5ce4c32683a3",
    "pycharm": {
     "name": "#%%\n"
    }
   },
   "outputs": [
    {
     "data": {
      "text/html": "\n<div id=\"altair-viz-823d73d30e214c9f8d3c1fb952301b37\"></div>\n<script type=\"text/javascript\">\n  var VEGA_DEBUG = (typeof VEGA_DEBUG == \"undefined\") ? {} : VEGA_DEBUG;\n  (function(spec, embedOpt){\n    let outputDiv = document.currentScript.previousElementSibling;\n    if (outputDiv.id !== \"altair-viz-823d73d30e214c9f8d3c1fb952301b37\") {\n      outputDiv = document.getElementById(\"altair-viz-823d73d30e214c9f8d3c1fb952301b37\");\n    }\n    const paths = {\n      \"vega\": \"https://cdn.jsdelivr.net/npm//vega@5?noext\",\n      \"vega-lib\": \"https://cdn.jsdelivr.net/npm//vega-lib?noext\",\n      \"vega-lite\": \"https://cdn.jsdelivr.net/npm//vega-lite@4.17.0?noext\",\n      \"vega-embed\": \"https://cdn.jsdelivr.net/npm//vega-embed@6?noext\",\n    };\n\n    function maybeLoadScript(lib, version) {\n      var key = `${lib.replace(\"-\", \"\")}_version`;\n      return (VEGA_DEBUG[key] == version) ?\n        Promise.resolve(paths[lib]) :\n        new Promise(function(resolve, reject) {\n          var s = document.createElement('script');\n          document.getElementsByTagName(\"head\")[0].appendChild(s);\n          s.async = true;\n          s.onload = () => {\n            VEGA_DEBUG[key] = version;\n            return resolve(paths[lib]);\n          };\n          s.onerror = () => reject(`Error loading script: ${paths[lib]}`);\n          s.src = paths[lib];\n        });\n    }\n\n    function showError(err) {\n      outputDiv.innerHTML = `<div class=\"error\" style=\"color:red;\">${err}</div>`;\n      throw err;\n    }\n\n    function displayChart(vegaEmbed) {\n      vegaEmbed(outputDiv, spec, embedOpt)\n        .catch(err => showError(`Javascript Error: ${err.message}<br>This usually means there's a typo in your chart specification. See the javascript console for the full traceback.`));\n    }\n\n    if(typeof define === \"function\" && define.amd) {\n      requirejs.config({paths});\n      require([\"vega-embed\"], displayChart, err => showError(`Error loading script: ${err.message}`));\n    } else {\n      maybeLoadScript(\"vega\", \"5\")\n        .then(() => maybeLoadScript(\"vega-lite\", \"4.17.0\"))\n        .then(() => maybeLoadScript(\"vega-embed\", \"6\"))\n        .catch(showError)\n        .then(() => displayChart(vegaEmbed));\n    }\n  })({\"config\": {\"view\": {\"continuousWidth\": 400, \"continuousHeight\": 300}}, \"data\": {\"url\": \"https://cdn.jsdelivr.net/npm/vega-datasets@v1.29.0/data/zipcodes.csv\"}, \"mark\": {\"type\": \"circle\", \"size\": 2}, \"encoding\": {\"color\": {\"field\": \"first_digit\", \"type\": \"nominal\"}, \"latitude\": {\"field\": \"latitude\", \"type\": \"quantitative\"}, \"longitude\": {\"field\": \"longitude\", \"type\": \"quantitative\"}}, \"height\": 400, \"projection\": {\"type\": \"albersUsa\"}, \"transform\": [{\"calculate\": \"substring(datum.zip_code,0,1)\", \"as\": \"first_digit\"}], \"width\": 700, \"$schema\": \"https://vega.github.io/schema/vega-lite/v4.17.0.json\"}, {\"mode\": \"vega-lite\"});\n</script>",
      "text/plain": "alt.Chart(...)"
     },
     "execution_count": 117,
     "metadata": {},
     "output_type": "execute_result"
    }
   ],
   "source": [
    "from altair.expr import datum, substring\n",
    "\n",
    "alt.Chart(zipcodes_url).mark_circle(size=2).transform_calculate(\n",
    "    'first_digit', substring(datum.zip_code, 0, 1)\n",
    ").encode(\n",
    "    longitude='longitude:Q',\n",
    "    latitude='latitude:Q',\n",
    "    color='first_digit:N',\n",
    ").project(\n",
    "    type='albersUsa'\n",
    ").properties(\n",
    "    width=700,\n",
    "    height=400,\n",
    ")"
   ]
  },
  {
   "cell_type": "markdown",
   "metadata": {
    "id": "2Udsd9x6Z2Uw",
    "pycharm": {
     "name": "#%% md\n"
    }
   },
   "source": [
    "For each row (`datum`), you obtain the `zip_code` variable and get the substring (imagine Python list slicing), and then you call the result `first_digit`. Now, you can use this `first_digit` variable to color the circles. Also note that we specify `first_digit` as a *nominal* variable, not quantitative, to obtain a categorical colormap. But we can also play with it too. \n",
    "\n",
    "**Q: Why don't you extract the first two digits, name it as `two_digits`, and declare that as a quantitative variable? Any interesting patterns? What does it tell us about the history of US?** "
   ]
  },
  {
   "cell_type": "code",
   "execution_count": 118,
   "metadata": {
    "id": "X7xxwFjSZ2Uw",
    "outputId": "e238e060-7c85-44da-ebff-b321ae0021b5",
    "pycharm": {
     "name": "#%%\n"
    }
   },
   "outputs": [],
   "source": [
    "# Implement\n"
   ]
  },
  {
   "cell_type": "markdown",
   "metadata": {
    "id": "JIS95XPnZ2Ux",
    "pycharm": {
     "name": "#%% md\n"
    }
   },
   "source": [
    "**Q: also try it with declaring the first two digits as a categorical variable**"
   ]
  },
  {
   "cell_type": "code",
   "execution_count": 119,
   "metadata": {
    "id": "uJx_XWQoZ2Ux",
    "outputId": "16c8cd7b-4ab6-45b1-f74f-9da8fd019da1",
    "pycharm": {
     "name": "#%%\n"
    }
   },
   "outputs": [],
   "source": [
    "# Implement\n"
   ]
  },
  {
   "cell_type": "markdown",
   "metadata": {
    "id": "qKxmf9cHZ2Ux",
    "pycharm": {
     "name": "#%% md\n"
    }
   },
   "source": [
    "Btw, you can always click \"view source\" or \"open in Vega Editor\" to look at the json object that **defines** this visualization. You can embed this json object on your webpage and easily put up an interactive visualization. \n",
    "\n",
    "**Q: Can you put a tooltip that displays the zipcode when you mouse-over? Example https://altair-viz.github.io/gallery/scatter_tooltips.html**"
   ]
  },
  {
   "cell_type": "code",
   "execution_count": 120,
   "metadata": {
    "id": "TUw49SXnZ2Uy",
    "outputId": "e0dbbd6b-a28d-4bc5-d99a-d140dcc5bfdc",
    "pycharm": {
     "name": "#%%\n"
    }
   },
   "outputs": [],
   "source": [
    "# Implement\n"
   ]
  },
  {
   "cell_type": "markdown",
   "metadata": {
    "id": "2HM829r3Z2Uy",
    "pycharm": {
     "name": "#%% md\n"
    }
   },
   "source": [
    "## Choropleth \n",
    "\n",
    "Let's try some choropleth now. Vega datasets have US county / state boundary data (`us_10m`) and world country boundary data (`world-110m`). You can take a look at the boundaries on GitHub (they renders topoJSON files):\n",
    "\n",
    "- https://github.com/vega/vega-datasets/blob/gh-pages/data/us-10m.json\n",
    "- https://github.com/vega/vega-datasets/blob/gh-pages/data/world-110m.json\n",
    "\n",
    "If you click \"Raw\" then you can take a look at the actual file, which is hard to read. \n",
    "\n",
    "Essentially, each file is a large dictionary with the following keys. "
   ]
  },
  {
   "cell_type": "code",
   "execution_count": 121,
   "metadata": {
    "id": "smgPTaI0Z2Uz",
    "outputId": "48c21df5-f7d7-40a7-ba0c-ebb4e51daf0a",
    "pycharm": {
     "name": "#%%\n"
    }
   },
   "outputs": [
    {
     "data": {
      "text/plain": "dict_keys(['type', 'transform', 'objects', 'arcs'])"
     },
     "execution_count": 121,
     "metadata": {},
     "output_type": "execute_result"
    }
   ],
   "source": [
    "usmap = data.us_10m()\n",
    "usmap.keys()"
   ]
  },
  {
   "cell_type": "code",
   "execution_count": 122,
   "metadata": {
    "id": "qQuhvlLRZ2Uz",
    "outputId": "9cec5a32-fec2-4a51-9496-7041e4176f00",
    "pycharm": {
     "name": "#%%\n"
    }
   },
   "outputs": [
    {
     "data": {
      "text/plain": "'Topology'"
     },
     "execution_count": 122,
     "metadata": {},
     "output_type": "execute_result"
    }
   ],
   "source": [
    "usmap['type']"
   ]
  },
  {
   "cell_type": "code",
   "execution_count": 123,
   "metadata": {
    "id": "6d-pJl5tZ2Uz",
    "outputId": "9b6fe738-2302-48b7-c3e9-4831f0bea2d5",
    "pycharm": {
     "name": "#%%\n"
    }
   },
   "outputs": [
    {
     "data": {
      "text/plain": "{'scale': [0.003589294092944858, 0.0005371535195261037],\n 'translate': [-179.1473400003406, 17.67439566600018]}"
     },
     "execution_count": 123,
     "metadata": {},
     "output_type": "execute_result"
    }
   ],
   "source": [
    "usmap['transform']"
   ]
  },
  {
   "cell_type": "markdown",
   "metadata": {
    "id": "GokrfL5nZ2U0",
    "pycharm": {
     "name": "#%% md\n"
    }
   },
   "source": [
    "This `transformation` is used to *quantize* the data and store the coordinates in integer (easier to store than float type numbers). \n",
    "\n",
    "https://github.com/topojson/topojson-specification#212-transforms"
   ]
  },
  {
   "cell_type": "code",
   "execution_count": 124,
   "metadata": {
    "id": "Tt0GwYWsZ2U0",
    "outputId": "f1b93582-c27f-4846-9f48-66e4ef5e8676",
    "pycharm": {
     "name": "#%%\n"
    }
   },
   "outputs": [
    {
     "data": {
      "text/plain": "dict_keys(['counties', 'states', 'land'])"
     },
     "execution_count": 124,
     "metadata": {},
     "output_type": "execute_result"
    }
   ],
   "source": [
    "usmap['objects'].keys()"
   ]
  },
  {
   "cell_type": "markdown",
   "metadata": {
    "id": "3a1sXAIjZ2U0",
    "pycharm": {
     "name": "#%% md\n"
    }
   },
   "source": [
    "This data contains not only county-level boundaries (objects) but also states and land boundaries. "
   ]
  },
  {
   "cell_type": "code",
   "execution_count": 125,
   "metadata": {
    "id": "hEDxqBZZZ2U0",
    "outputId": "f88153a2-5fc1-4ef9-9385-16ee1dd6511b",
    "pycharm": {
     "name": "#%%\n"
    }
   },
   "outputs": [
    {
     "data": {
      "text/plain": "('MultiPolygon', 'GeometryCollection', 'GeometryCollection')"
     },
     "execution_count": 125,
     "metadata": {},
     "output_type": "execute_result"
    }
   ],
   "source": [
    "usmap['objects']['land']['type'], usmap['objects']['states']['type'], usmap['objects']['counties']['type']"
   ]
  },
  {
   "cell_type": "markdown",
   "metadata": {
    "id": "Oga1HFa6Z2U1",
    "pycharm": {
     "name": "#%% md\n"
    }
   },
   "source": [
    "`land` is a multipolygon (one object) and `states` and `counties` contains many geometrics (multipolygons) because there are many states (counties). We can look at a state as a set of arcs that define it. It's `id` captures the identity of the state and is the key to link to other datasets. "
   ]
  },
  {
   "cell_type": "code",
   "execution_count": 126,
   "metadata": {
    "id": "DUMmWvX8Z2U1",
    "outputId": "b5d7cd80-5a1e-412c-883b-bfbc78c2e85c",
    "pycharm": {
     "name": "#%%\n"
    }
   },
   "outputs": [
    {
     "data": {
      "text/plain": "{'type': 'MultiPolygon',\n 'arcs': [[[10337]],\n  [[10342]],\n  [[10341]],\n  [[10343]],\n  [[10834, 10340]],\n  [[10344]],\n  [[10345]],\n  [[10338]]],\n 'id': 15}"
     },
     "execution_count": 126,
     "metadata": {},
     "output_type": "execute_result"
    }
   ],
   "source": [
    "state1 = usmap['objects']['states']['geometries'][1]\n",
    "state1"
   ]
  },
  {
   "cell_type": "markdown",
   "metadata": {
    "id": "FyIQ7CjQZ2U1",
    "pycharm": {
     "name": "#%% md\n"
    }
   },
   "source": [
    "The `arcs` referred here is defined in `usmap['arcs']`. "
   ]
  },
  {
   "cell_type": "code",
   "execution_count": 127,
   "metadata": {
    "id": "cu649i4pZ2U2",
    "outputId": "95745460-86e6-45de-9448-932b61c0feec",
    "pycharm": {
     "name": "#%%\n"
    }
   },
   "outputs": [
    {
     "data": {
      "text/plain": "[[[15739, 57220], [0, 0]],\n [[15739, 57220], [29, 62], [47, -273]],\n [[15815, 57009], [-6, -86]],\n [[15809, 56923], [0, 0]],\n [[15809, 56923], [-36, -8], [6, -210], [32, 178]],\n [[15811, 56883], [9, -194], [44, -176], [-29, -151], [-24, -319]],\n [[15811, 56043], [-12, -216], [26, -171]],\n [[15825, 55656], [-2, 1]],\n [[15823, 55657], [-19, 10], [26, -424], [-26, -52]],\n [[15804, 55191], [-30, -72], [-47, -344]]]"
     },
     "execution_count": 127,
     "metadata": {},
     "output_type": "execute_result"
    }
   ],
   "source": [
    "usmap['arcs'][:10]"
   ]
  },
  {
   "cell_type": "markdown",
   "metadata": {
    "id": "mb313oNxZ2U2",
    "pycharm": {
     "name": "#%% md\n"
    }
   },
   "source": [
    "It seems pretty daunting to work with this dataset, right? But fortunately people have already built tools to handle such data. "
   ]
  },
  {
   "cell_type": "code",
   "execution_count": 128,
   "metadata": {
    "id": "H4cKl2wBZ2U2",
    "pycharm": {
     "name": "#%%\n"
    }
   },
   "outputs": [],
   "source": [
    "# states\n",
    "states = alt.topo_feature(data.us_10m.url, 'states')\n",
    "\n",
    "# us counties\n",
    "us_counties = alt.topo_feature(data.us_10m.url, 'counties')"
   ]
  },
  {
   "cell_type": "code",
   "execution_count": 129,
   "metadata": {
    "id": "CjE3w38HZ2U2",
    "outputId": "202a6a31-ab45-4cb5-ab2d-eff8ef29eea8",
    "pycharm": {
     "name": "#%%\n"
    }
   },
   "outputs": [
    {
     "data": {
      "text/plain": "UrlData({\n  format: TopoDataFormat({\n    feature: 'states',\n    type: 'topojson'\n  }),\n  url: 'https://cdn.jsdelivr.net/npm/vega-datasets@v1.29.0/data/us-10m.json'\n})"
     },
     "execution_count": 129,
     "metadata": {},
     "output_type": "execute_result"
    }
   ],
   "source": [
    "states"
   ]
  },
  {
   "cell_type": "markdown",
   "metadata": {
    "id": "seAXsismZ2U3",
    "pycharm": {
     "name": "#%% md\n"
    }
   },
   "source": [
    "**Q. Can you find a mark for geographical shapes from here https://altair-viz.github.io/user_guide/marks.html and draw the states?** "
   ]
  },
  {
   "cell_type": "code",
   "execution_count": 130,
   "metadata": {
    "id": "_h3f_kZTZ2U3",
    "outputId": "a8802f7f-5f5d-4533-901b-53a471f8aa18",
    "pycharm": {
     "name": "#%%\n"
    }
   },
   "outputs": [],
   "source": [
    "# Implement\n"
   ]
  },
  {
   "cell_type": "markdown",
   "metadata": {
    "id": "2V5_W0UxZ2U3",
    "pycharm": {
     "name": "#%% md\n"
    }
   },
   "source": [
    "And then project it using the `albersUsa`?"
   ]
  },
  {
   "cell_type": "code",
   "execution_count": 131,
   "metadata": {
    "id": "Z6X1mznEZ2U3",
    "outputId": "9fc9eae4-c076-4677-96d8-94bbae982953",
    "pycharm": {
     "name": "#%%\n"
    }
   },
   "outputs": [],
   "source": [
    "# Implement\n"
   ]
  },
  {
   "cell_type": "markdown",
   "metadata": {
    "id": "BY2mkxG0Z2U3",
    "pycharm": {
     "name": "#%% md\n"
    }
   },
   "source": [
    "Can you do the same thing with counties and draw county boundaries? (hint: you have to use `alt.topo_feature()`)"
   ]
  },
  {
   "cell_type": "code",
   "execution_count": 132,
   "metadata": {
    "id": "_1bOYwn_Z2U4",
    "outputId": "720f3f90-ba4b-4f6a-fe10-730a840f8426",
    "pycharm": {
     "name": "#%%\n"
    }
   },
   "outputs": [],
   "source": [
    "# Implement\n"
   ]
  },
  {
   "cell_type": "markdown",
   "metadata": {
    "id": "rk9pDUaRZ2U4",
    "pycharm": {
     "name": "#%% md\n"
    }
   },
   "source": [
    "Let's load some county-level unemployment data. "
   ]
  },
  {
   "cell_type": "code",
   "execution_count": 133,
   "metadata": {
    "id": "FB_NuCjOZ2U4",
    "outputId": "c290859c-35ed-4d1d-d1fb-acd439158eb6",
    "pycharm": {
     "name": "#%%\n"
    }
   },
   "outputs": [
    {
     "data": {
      "text/plain": "     id   rate\n0  1001  0.097\n1  1003  0.091\n2  1005  0.134\n3  1007  0.121\n4  1009  0.099",
      "text/html": "<div>\n<style scoped>\n    .dataframe tbody tr th:only-of-type {\n        vertical-align: middle;\n    }\n\n    .dataframe tbody tr th {\n        vertical-align: top;\n    }\n\n    .dataframe thead th {\n        text-align: right;\n    }\n</style>\n<table border=\"1\" class=\"dataframe\">\n  <thead>\n    <tr style=\"text-align: right;\">\n      <th></th>\n      <th>id</th>\n      <th>rate</th>\n    </tr>\n  </thead>\n  <tbody>\n    <tr>\n      <th>0</th>\n      <td>1001</td>\n      <td>0.097</td>\n    </tr>\n    <tr>\n      <th>1</th>\n      <td>1003</td>\n      <td>0.091</td>\n    </tr>\n    <tr>\n      <th>2</th>\n      <td>1005</td>\n      <td>0.134</td>\n    </tr>\n    <tr>\n      <th>3</th>\n      <td>1007</td>\n      <td>0.121</td>\n    </tr>\n    <tr>\n      <th>4</th>\n      <td>1009</td>\n      <td>0.099</td>\n    </tr>\n  </tbody>\n</table>\n</div>"
     },
     "execution_count": 133,
     "metadata": {},
     "output_type": "execute_result"
    }
   ],
   "source": [
    "unemp_data = data.unemployment(sep='\\t')\n",
    "unemp_data.head()"
   ]
  },
  {
   "cell_type": "markdown",
   "metadata": {
    "id": "NiBVa1JXZ2U4",
    "pycharm": {
     "name": "#%% md\n"
    }
   },
   "source": [
    "This dataset has unemployment rate. When? I don't know. We don't care about data provenance here because the goal is quickly trying out choropleth. But if you're working with a real dataset, you should be very sensitive about the provenance of your dataset. Make sure you understand where the data came from and how it was processed. \n",
    "\n",
    "Anyway, for each county specified with `id`. To combine two datasets, we use \"Lookup transform\" - https://vega.github.io/vega/docs/transforms/lookup/. Essentially, we use the `id` in the map data to look up (again) `id` field in the `unemp_data` and then bring in the `rate` variable. Then, we can use that `rate` variable to encode the color of the `geoshape` mark. "
   ]
  },
  {
   "cell_type": "code",
   "execution_count": 134,
   "metadata": {
    "id": "iScaLushZ2U5",
    "outputId": "2ee58d8a-a326-4b80-843c-3b021587b8d5",
    "pycharm": {
     "name": "#%%\n"
    }
   },
   "outputs": [
    {
     "data": {
      "text/html": "\n<div id=\"altair-viz-063ba7e58eb1425292826684e120111a\"></div>\n<script type=\"text/javascript\">\n  var VEGA_DEBUG = (typeof VEGA_DEBUG == \"undefined\") ? {} : VEGA_DEBUG;\n  (function(spec, embedOpt){\n    let outputDiv = document.currentScript.previousElementSibling;\n    if (outputDiv.id !== \"altair-viz-063ba7e58eb1425292826684e120111a\") {\n      outputDiv = document.getElementById(\"altair-viz-063ba7e58eb1425292826684e120111a\");\n    }\n    const paths = {\n      \"vega\": \"https://cdn.jsdelivr.net/npm//vega@5?noext\",\n      \"vega-lib\": \"https://cdn.jsdelivr.net/npm//vega-lib?noext\",\n      \"vega-lite\": \"https://cdn.jsdelivr.net/npm//vega-lite@4.17.0?noext\",\n      \"vega-embed\": \"https://cdn.jsdelivr.net/npm//vega-embed@6?noext\",\n    };\n\n    function maybeLoadScript(lib, version) {\n      var key = `${lib.replace(\"-\", \"\")}_version`;\n      return (VEGA_DEBUG[key] == version) ?\n        Promise.resolve(paths[lib]) :\n        new Promise(function(resolve, reject) {\n          var s = document.createElement('script');\n          document.getElementsByTagName(\"head\")[0].appendChild(s);\n          s.async = true;\n          s.onload = () => {\n            VEGA_DEBUG[key] = version;\n            return resolve(paths[lib]);\n          };\n          s.onerror = () => reject(`Error loading script: ${paths[lib]}`);\n          s.src = paths[lib];\n        });\n    }\n\n    function showError(err) {\n      outputDiv.innerHTML = `<div class=\"error\" style=\"color:red;\">${err}</div>`;\n      throw err;\n    }\n\n    function displayChart(vegaEmbed) {\n      vegaEmbed(outputDiv, spec, embedOpt)\n        .catch(err => showError(`Javascript Error: ${err.message}<br>This usually means there's a typo in your chart specification. See the javascript console for the full traceback.`));\n    }\n\n    if(typeof define === \"function\" && define.amd) {\n      requirejs.config({paths});\n      require([\"vega-embed\"], displayChart, err => showError(`Error loading script: ${err.message}`));\n    } else {\n      maybeLoadScript(\"vega\", \"5\")\n        .then(() => maybeLoadScript(\"vega-lite\", \"4.17.0\"))\n        .then(() => maybeLoadScript(\"vega-embed\", \"6\"))\n        .catch(showError)\n        .then(() => displayChart(vegaEmbed));\n    }\n  })({\"config\": {\"view\": {\"continuousWidth\": 400, \"continuousHeight\": 300}}, \"data\": {\"url\": \"https://cdn.jsdelivr.net/npm/vega-datasets@v1.29.0/data/us-10m.json\", \"format\": {\"feature\": \"counties\", \"type\": \"topojson\"}}, \"mark\": \"geoshape\", \"encoding\": {\"color\": {\"field\": \"rate\", \"type\": \"quantitative\"}}, \"height\": 400, \"projection\": {\"type\": \"albersUsa\"}, \"transform\": [{\"lookup\": \"id\", \"from\": {\"data\": {\"url\": \"https://cdn.jsdelivr.net/npm/vega-datasets@v1.29.0/data/unemployment.tsv\"}, \"key\": \"id\", \"fields\": [\"rate\"]}}], \"width\": 700, \"$schema\": \"https://vega.github.io/schema/vega-lite/v4.17.0.json\"}, {\"mode\": \"vega-lite\"});\n</script>",
      "text/plain": "alt.Chart(...)"
     },
     "execution_count": 134,
     "metadata": {},
     "output_type": "execute_result"
    }
   ],
   "source": [
    "alt.Chart(us_counties).mark_geoshape().project(\n",
    "    type='albersUsa'\n",
    ").transform_lookup(\n",
    "    lookup='id',\n",
    "    from_=alt.LookupData(data.unemployment.url, 'id', ['rate'])\n",
    ").encode(\n",
    "    color='rate:Q'\n",
    ").properties(\n",
    "    width=700,\n",
    "    height=400\n",
    ")"
   ]
  },
  {
   "cell_type": "markdown",
   "metadata": {
    "id": "bi7nwlpUZ2U5",
    "pycharm": {
     "name": "#%% md\n"
    }
   },
   "source": [
    "There you have it, a nice choropleth map. 😎 \n"
   ]
  },
  {
   "cell_type": "markdown",
   "metadata": {
    "id": "OmspJ-urZ2U5",
    "pycharm": {
     "name": "#%% md\n"
    }
   },
   "source": [
    "## Raster visualization with datashader\n",
    "\n",
    "Although many geovisualizations use vector graphics, raster visualization is still useful especially when you deal with images and lots of datapoints. Datashader is a package that aggregates and visualizes a large amount of data very quickly. Given a *scene* (visualization boundary, resolution, etc.), it quickly aggregate the data and produce **pixels** and send them to you. \n",
    "\n",
    "To appreciate its power, we need a fairly large dataset. Let's use NYC taxi trip dataset on Kaggle: https://www.kaggle.com/kentonnlp/2014-new-york-city-taxi-trips You can download even bigger trip data from NYC open data website: https://opendata.cityofnewyork.us/data/\n",
    "\n",
    "Ah, and you want to install the datashader, bokeh, and holoviews first if you don't have them yet. If you have them make sure they are the latest version \n",
    "\n",
    "    pip install -U datashader bokeh holoviews\n",
    "\n",
    "or \n",
    "\n",
    "    conda install datashader bokeh holoviews\n",
    "    "
   ]
  },
  {
   "cell_type": "code",
   "execution_count": 135,
   "metadata": {
    "id": "ttA52YRgZ2U6",
    "pycharm": {
     "name": "#%%\n"
    }
   },
   "outputs": [
    {
     "ename": "ModuleNotFoundError",
     "evalue": "No module named 'datashader'",
     "output_type": "error",
     "traceback": [
      "\u001B[1;31m---------------------------------------------------------------------------\u001B[0m",
      "\u001B[1;31mModuleNotFoundError\u001B[0m                       Traceback (most recent call last)",
      "Input \u001B[1;32mIn [135]\u001B[0m, in \u001B[0;36m<cell line: 4>\u001B[1;34m()\u001B[0m\n\u001B[0;32m      1\u001B[0m get_ipython()\u001B[38;5;241m.\u001B[39mrun_line_magic(\u001B[38;5;124m'\u001B[39m\u001B[38;5;124mmatplotlib\u001B[39m\u001B[38;5;124m'\u001B[39m, \u001B[38;5;124m'\u001B[39m\u001B[38;5;124minline\u001B[39m\u001B[38;5;124m'\u001B[39m)\n\u001B[0;32m      3\u001B[0m \u001B[38;5;28;01mimport\u001B[39;00m \u001B[38;5;21;01mpandas\u001B[39;00m \u001B[38;5;28;01mas\u001B[39;00m \u001B[38;5;21;01mpd\u001B[39;00m\n\u001B[1;32m----> 4\u001B[0m \u001B[38;5;28;01mimport\u001B[39;00m \u001B[38;5;21;01mdatashader\u001B[39;00m \u001B[38;5;28;01mas\u001B[39;00m \u001B[38;5;21;01mds\u001B[39;00m\n\u001B[0;32m      5\u001B[0m \u001B[38;5;28;01mfrom\u001B[39;00m \u001B[38;5;21;01mdatashader\u001B[39;00m \u001B[38;5;28;01mimport\u001B[39;00m transfer_functions \u001B[38;5;28;01mas\u001B[39;00m tf\n\u001B[0;32m      6\u001B[0m \u001B[38;5;28;01mfrom\u001B[39;00m \u001B[38;5;21;01mcolorcet\u001B[39;00m \u001B[38;5;28;01mimport\u001B[39;00m fire\n",
      "\u001B[1;31mModuleNotFoundError\u001B[0m: No module named 'datashader'"
     ]
    }
   ],
   "source": [
    "%matplotlib inline\n",
    "\n",
    "import pandas as pd\n",
    "import datashader as ds\n",
    "from datashader import transfer_functions as tf\n",
    "from colorcet import fire"
   ]
  },
  {
   "cell_type": "markdown",
   "metadata": {
    "id": "TK-49phnZ2U6",
    "pycharm": {
     "name": "#%% md\n"
    }
   },
   "source": [
    "Because the dataset is pretty big, let's use a small sample first. For this visualization, we only keep the dropoff location.  \n",
    "\n",
    "Usually, we use `remotezip` package in Python to download and extract the big dataset. But one of the problem with `remotezip` is that it does not support [range request](https://github.com/gtsystem/python-remotezip/issues/3) and that is why we have to download the dataset manually. We suggest you to download the zip file of dataset containing csv from [Kaggle dataset](https://www.kaggle.com/kentonnlp/2014-new-york-city-taxi-trips), extract it and put the filepath of CSV file in the `csv_path` variable below."
   ]
  },
  {
   "cell_type": "code",
   "execution_count": null,
   "metadata": {
    "id": "0lRoB3DnZ2U6",
    "outputId": "40869d51-1ac9-4b6b-b5dd-4cf032792923",
    "pycharm": {
     "name": "#%%\n"
    }
   },
   "outputs": [],
   "source": [
    "csv_path= '<<INSERT nyc_taxi_data_2014.csv file path>>'\n",
    "\n",
    "try:\n",
    "    nyctaxi_small = pd.read_csv(csv_path, nrows=10000, \n",
    "                                usecols=['dropoff_longitude', 'dropoff_latitude'])\n",
    "except:\n",
    "    print(\"Dataset URL is not correct or not defined:\")\n",
    "    print(\"Creating dummy dataset so that code won't break but for assignment, you must use actual dataset.\")\n",
    "    nyctaxi_small = pd.DataFrame({\"dropoff_longitude\": [-73, -74], \"dropoff_latitude\": [40, 41]})\n",
    "\n",
    "nyctaxi_small.head()"
   ]
  },
  {
   "cell_type": "markdown",
   "metadata": {
    "id": "cBC2zwBsZ2U6",
    "pycharm": {
     "name": "#%% md\n"
    }
   },
   "source": [
    "Although the dataset is different, we can still follow the example here: https://datashader.org/getting_started/Introduction.html"
   ]
  },
  {
   "cell_type": "code",
   "execution_count": null,
   "metadata": {
    "id": "Y-dN49m4Z2U6",
    "outputId": "d60dae69-5c16-45ad-f827-2928cb42d523",
    "pycharm": {
     "name": "#%%\n"
    }
   },
   "outputs": [],
   "source": [
    "agg = ds.Canvas().points(nyctaxi_small, 'dropoff_longitude', 'dropoff_latitude')\n",
    "tf.set_background(tf.shade(agg, cmap=fire),\"black\")"
   ]
  },
  {
   "cell_type": "markdown",
   "metadata": {
    "id": "ku249CaaZ2U7",
    "pycharm": {
     "name": "#%% md\n"
    }
   },
   "source": [
    "Why can't we see anything? Wait, do you see the small dots on the left top? Can that be New York City? Maybe we don't see anything because some people travel very far? or because the dataset has some missing data?\n",
    "\n",
    "**Q: Can you first check whether there are NaNs? Then drop them and draw the map again?** "
   ]
  },
  {
   "cell_type": "code",
   "execution_count": null,
   "metadata": {
    "id": "5Cpo27utZ2U7",
    "outputId": "7cc91f30-472f-4d79-dafc-38149548167c",
    "pycharm": {
     "name": "#%%\n"
    }
   },
   "outputs": [],
   "source": [
    "# Implement: Check whether we have NaNs\n"
   ]
  },
  {
   "cell_type": "code",
   "execution_count": null,
   "metadata": {
    "id": "HUAdBYKhZ2U7",
    "outputId": "100bb502-5027-46fb-fb41-3adce6a55ec5",
    "pycharm": {
     "name": "#%%\n"
    }
   },
   "outputs": [],
   "source": [
    "# Implement: drop the rows with NaN and then draw the map again. \n"
   ]
  },
  {
   "cell_type": "markdown",
   "metadata": {
    "id": "6uueTN06Z2U8",
    "pycharm": {
     "name": "#%% md\n"
    }
   },
   "source": [
    "So it's not about the missing data. \n",
    "\n",
    "**Q: Can you identify the issue and draw the map like the following?** \n",
    "\n",
    "hint: https://pandas.pydata.org/pandas-docs/stable/reference/api/pandas.Series.between.html and histograms may be helpful. "
   ]
  },
  {
   "cell_type": "code",
   "execution_count": null,
   "metadata": {
    "id": "5awdRUpoZ2U8",
    "pycharm": {
     "name": "#%%\n"
    }
   },
   "outputs": [],
   "source": [
    "# Implement. You can use multiple cells to figure out what's going on. \n",
    "# TODO: Once you figure it out, Replace below dummy value of df nyctaxi_small_filtered with correct value where the issue is resolved\n",
    "nyctaxi_small_filtered = pd.DataFrame({\"dropoff_longitude\": [-73, -74], \"dropoff_latitude\": [40, 41]})"
   ]
  },
  {
   "cell_type": "code",
   "execution_count": null,
   "metadata": {
    "id": "zJYWmOrhZ2U8",
    "outputId": "ad44dd1e-db82-4678-e908-34e30df2346d",
    "pycharm": {
     "name": "#%%\n"
    }
   },
   "outputs": [],
   "source": [
    "agg = ds.Canvas().points(nyctaxi_small_filtered, 'dropoff_longitude', 'dropoff_latitude')\n",
    "tf.set_background(tf.shade(agg, cmap=fire), \"black\")"
   ]
  },
  {
   "cell_type": "markdown",
   "metadata": {
    "id": "e9EvKKtjZ2U8",
    "pycharm": {
     "name": "#%% md\n"
    }
   },
   "source": [
    "Do you see the black empty space at the center? That looks like the Central Park. This is cool, but it'll be awesome if we can explore the data interactively. "
   ]
  },
  {
   "cell_type": "markdown",
   "metadata": {
    "id": "85_n3vZQZ2U9",
    "pycharm": {
     "name": "#%% md\n"
    }
   },
   "source": [
    "Q. Ok, now let's get serious by loading the **whole** dataset. It may take some time. **Apply the same data cleaning procedure.**"
   ]
  },
  {
   "cell_type": "code",
   "execution_count": null,
   "metadata": {
    "id": "nyczKELIZ2U9",
    "pycharm": {
     "name": "#%%\n"
    }
   },
   "outputs": [],
   "source": [
    "# Implement \n"
   ]
  },
  {
   "cell_type": "markdown",
   "metadata": {
    "id": "uvjOZzUFZ2U9",
    "pycharm": {
     "name": "#%% md\n"
    }
   },
   "source": [
    "Can you feed the data directly to datashader to reproduce the static plot, this time with the full data?"
   ]
  },
  {
   "cell_type": "code",
   "execution_count": null,
   "metadata": {
    "id": "xIiH9zNaZ2U9",
    "outputId": "622b51d1-7216-4a08-8cdf-22d418a64126",
    "pycharm": {
     "name": "#%%\n"
    }
   },
   "outputs": [],
   "source": [
    "# Implement\n"
   ]
  },
  {
   "cell_type": "markdown",
   "metadata": {
    "id": "Ta2PWwmxZ2U-",
    "pycharm": {
     "name": "#%% md\n"
    }
   },
   "source": [
    "Wow, that's fast. Also it looks cool! \n",
    "\n",
    "Let's try the interactive version from here: https://datashader.org/getting_started/Introduction.html"
   ]
  },
  {
   "cell_type": "code",
   "execution_count": null,
   "metadata": {
    "id": "ml0fYeNdZ2U-",
    "outputId": "26afde8f-921e-4e7f-b8a9-692811831ebe",
    "pycharm": {
     "name": "#%%\n"
    }
   },
   "outputs": [],
   "source": [
    "import holoviews as hv\n",
    "from holoviews.element.tiles import EsriImagery\n",
    "from holoviews.operation.datashader import datashade\n",
    "hv.extension('bokeh')\n",
    "\n",
    "map_tiles  = EsriImagery().opts(alpha=0.5, width=900, height=480, bgcolor='black')\n",
    "points     = hv.Points(nyctaxi_small_filtered, ['dropoff_longitude', 'dropoff_latitude'])\n",
    "taxi_trips = datashade(points, x_sampling=1, y_sampling=1, cmap=fire, width=900, height=480)\n",
    "\n",
    "map_tiles * taxi_trips\n"
   ]
  },
  {
   "cell_type": "markdown",
   "metadata": {
    "id": "J8Mtc__8Z2U_",
    "pycharm": {
     "name": "#%% md\n"
    }
   },
   "source": [
    "Why does it say \"map data not yet available\"? The reason is the difference between two coordinate systems. If you google this error message, you can find https://stackoverflow.com/questions/44487898/map-background-with-datashader-map-data-not-yet-available. \n",
    "\n",
    "You can use `datashader.utils.lnglat_to_meters` to convert your latitudes and longitudes to a format that holoviews understands. More on this here: https://datashader.org/user_guide/Geography.html \n",
    "\n",
    "**Q: Can you draw an interactive map by converting the lnglat data to x, y coordinate explained above?**"
   ]
  },
  {
   "cell_type": "code",
   "execution_count": null,
   "metadata": {
    "id": "UIkD5qb7Z2U_",
    "outputId": "af6718dc-f0b7-47b9-d7cd-8d758ad97344",
    "pycharm": {
     "name": "#%%\n"
    }
   },
   "outputs": [],
   "source": [
    "# Implement"
   ]
  },
  {
   "cell_type": "markdown",
   "metadata": {
    "id": "go6-hevMZ2VJ",
    "pycharm": {
     "name": "#%% md\n"
    }
   },
   "source": [
    "It's interactive! Actually, if you are running a bokeh server and there is a live python process, the map quickly refreshes and show more details as you zoom. "
   ]
  },
  {
   "cell_type": "markdown",
   "metadata": {
    "id": "a14IILkpZ2VK",
    "pycharm": {
     "name": "#%% md\n"
    }
   },
   "source": [
    "**Q: how many rows (data points) are we visualizing right now?**"
   ]
  },
  {
   "cell_type": "code",
   "execution_count": null,
   "metadata": {
    "id": "CiODK-16Z2VK",
    "pycharm": {
     "name": "#%%\n"
    }
   },
   "outputs": [],
   "source": [
    "# figure it out\n"
   ]
  },
  {
   "cell_type": "markdown",
   "metadata": {
    "id": "vPddUX78Z2VK",
    "pycharm": {
     "name": "#%% md\n"
    }
   },
   "source": [
    "That's a lot of data points. If we are using a vector format, it is probably hopeless to expect any interactivity because you need to move that many points! Yet, datashader + holoviews + bokeh renders everything almost in real time! "
   ]
  },
  {
   "cell_type": "markdown",
   "metadata": {
    "id": "_kX-ukisZ2VK",
    "pycharm": {
     "name": "#%% md\n"
    }
   },
   "source": [
    "## Leaflet \n",
    "\n",
    "Another useful tool is Leaflet. It allows you to use various map tile data (Google maps, Open streetmap, ...) with many types of marks (points, heatmap, etc.). [Leaflet.js](https://leafletjs.com) is one of the easiest options to do that on the web, and there is a Python bridge of it: https://github.com/jupyter-widgets/ipyleaflet. Although we will not go into details, it's certainly something that's worth checking out if you're using geographical data. "
   ]
  },
  {
   "cell_type": "code",
   "execution_count": null,
   "metadata": {
    "id": "WcC9c-aBZ2VL",
    "pycharm": {
     "name": "#%%\n"
    }
   },
   "outputs": [],
   "source": []
  },
  {
   "cell_type": "code",
   "execution_count": null,
   "metadata": {
    "id": "-Hs_b1NzZ2VL",
    "pycharm": {
     "name": "#%%\n"
    }
   },
   "outputs": [],
   "source": []
  }
 ],
 "metadata": {
  "anaconda-cloud": {},
  "colab": {
   "collapsed_sections": [],
   "name": "m12-lab.ipynb",
   "provenance": []
  },
  "kernelspec": {
   "display_name": "Python 3",
   "language": "python",
   "name": "python3"
  },
  "language_info": {
   "codemirror_mode": {
    "name": "ipython",
    "version": 3
   },
   "file_extension": ".py",
   "mimetype": "text/x-python",
   "name": "python",
   "nbconvert_exporter": "python",
   "pygments_lexer": "ipython3",
   "version": "3.7.6"
  },
  "toc": {
   "nav_menu": {},
   "number_sections": true,
   "sideBar": true,
   "skip_h1_title": false,
   "title_cell": "Table of Contents",
   "title_sidebar": "Contents",
   "toc_cell": false,
   "toc_position": {},
   "toc_section_display": true,
   "toc_window_display": false
  }
 },
 "nbformat": 4,
 "nbformat_minor": 2
}